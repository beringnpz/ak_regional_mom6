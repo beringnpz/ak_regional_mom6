{
 "cells": [
  {
   "cell_type": "code",
   "execution_count": null,
   "metadata": {},
   "outputs": [],
   "source": [
    "import geopandas as gpd\n",
    "\n",
    "import os\n",
    "\n",
    "import xarray as xr\n",
    "import rioxarray"
   ]
  },
  {
   "attachments": {},
   "cell_type": "markdown",
   "metadata": {},
   "source": [
    "Read in the static file"
   ]
  },
  {
   "cell_type": "code",
   "execution_count": 69,
   "metadata": {},
   "outputs": [
    {
     "data": {
      "text/plain": [
       "0         POINT (3007896.928 -3466893.651)\n",
       "1          POINT (3014805.93 -3460702.818)\n",
       "2         POINT (3021714.225 -3454506.172)\n",
       "3          POINT (3028621.861 -3448303.87)\n",
       "4         POINT (3035530.688 -3442095.125)\n",
       "                        ...               \n",
       "279067     POINT (-840227.154 3560716.773)\n",
       "279068     POINT (-834953.112 3565093.926)\n",
       "279069     POINT (-829691.398 3569441.974)\n",
       "279070      POINT (-824441.336 3573762.85)\n",
       "279071      POINT (-819203.447 3578054.26)\n",
       "Length: 279072, dtype: geometry"
      ]
     },
     "execution_count": 69,
     "metadata": {},
     "output_type": "execute_result"
    }
   ],
   "source": [
    "# nep_static = \"http://psl.noaa.gov/thredds/dodsC/Projects/CEFI/regional_mom6/cefi_portal/northeast_pacific/full_domain/hindcast/daily/raw/latest/ocean_static.nc\"\n",
    "nep_static = \"/Users/kelly.kearney/Documents/Data/CEFI/ocean_static.nc\"\n",
    "ds_static = xr.open_dataset(nep_static)\n",
    "# ds_static = ds_static.set_coords(['geolon','geolat'])\n",
    "\n",
    "# bathy = ds_static.deptho\n",
    "# bathy.rio.write_crs(\"EPSG:3338\", inplace=True)\n",
    "\n",
    "geolon = ds_static.geolon.values\n",
    "geolat = ds_static.geolat.values\n",
    "geolon = geolon.flatten()\n",
    "geolat = geolat.flatten()\n",
    "geolon = geolon.tolist()\n",
    "geolat = geolat.tolist()\n",
    "\n",
    "hcoords = gpd.GeoSeries.from_xy(geolon, geolat)\n",
    "hcoords = hcoords.set_crs(\"EPSG:4326\") # WGS84 lon/lat\n",
    "hcoords = hcoords.to_crs(\"EPSG:3338\")  # Alaska Albers equal area\n",
    "\n",
    "hcoords\n",
    "\n",
    "# TODO: create GeoSeries of just geolon, geolat points\n"
   ]
  },
  {
   "cell_type": "code",
   "execution_count": null,
   "metadata": {},
   "outputs": [
    {
     "data": {
      "text/html": [
       "<div>\n",
       "<style scoped>\n",
       "    .dataframe tbody tr th:only-of-type {\n",
       "        vertical-align: middle;\n",
       "    }\n",
       "\n",
       "    .dataframe tbody tr th {\n",
       "        vertical-align: top;\n",
       "    }\n",
       "\n",
       "    .dataframe thead th {\n",
       "        text-align: right;\n",
       "    }\n",
       "</style>\n",
       "<table border=\"1\" class=\"dataframe\">\n",
       "  <thead>\n",
       "    <tr style=\"text-align: right;\">\n",
       "      <th></th>\n",
       "      <th>name</th>\n",
       "      <th>geometry_type</th>\n",
       "    </tr>\n",
       "  </thead>\n",
       "  <tbody>\n",
       "    <tr>\n",
       "      <th>0</th>\n",
       "      <td>survey_strata</td>\n",
       "      <td>MultiPolygon</td>\n",
       "    </tr>\n",
       "    <tr>\n",
       "      <th>1</th>\n",
       "      <td>survey_area</td>\n",
       "      <td>MultiPolygon</td>\n",
       "    </tr>\n",
       "    <tr>\n",
       "      <th>2</th>\n",
       "      <td>inpfc_strata</td>\n",
       "      <td>MultiPolygon</td>\n",
       "    </tr>\n",
       "  </tbody>\n",
       "</table>\n",
       "</div>"
      ],
      "text/plain": [
       "            name geometry_type\n",
       "0  survey_strata  MultiPolygon\n",
       "1    survey_area  MultiPolygon\n",
       "2   inpfc_strata  MultiPolygon"
      ]
     },
     "execution_count": 80,
     "metadata": {},
     "output_type": "execute_result"
    }
   ],
   "source": [
    "# Alaska-specific geometries (from akgfmaps R package)\n",
    "\n",
    "akgffol = \"/Users/kelly.kearney/Documents/Repos/Other/akgfmaps/inst/extdata/\"\n",
    "\n",
    "file = os.path.join(akgffol, \"afsc_bts_strata.gpkg\")\n",
    "gpd.list_layers(file)"
   ]
  },
  {
   "cell_type": "code",
   "execution_count": null,
   "metadata": {},
   "outputs": [],
   "source": [
    "# Dump to shapefiles\n",
    "\n",
    "akgffol = \"/Users/kelly.kearney/Documents/Repos/Other/akgfmaps/inst/extdata/\"\n",
    "\n",
    "fbase = [\"afsc_bts_strata\", \"all_crab_from_akgfmaps_grid\"]\n",
    "\n",
    "for ff in fbase:\n",
    "\n",
    "    fname = os.path.join(akgffol, f\"{ff}.gpkg\")\n",
    "    layers = gpd.list_layers(fname)\n",
    "\n",
    "    for lay in layers.name:\n",
    "        tmp = gpd.read_file(fname, layer=lay)\n",
    "        if (lay == \"inpfc_strata\"):\n",
    "            print(tmp)\n",
    "        \n",
    "        \n",
    "        # tmp.to_file(f\"../supporting_data/{ff}_{lay}.shp\", driver=\"ESRI Shapefile\")\n",
    "\n"
   ]
  },
  {
   "cell_type": "code",
   "execution_count": 47,
   "metadata": {},
   "outputs": [
    {
     "name": "stderr",
     "output_type": "stream",
     "text": [
      "/Users/kelly.kearney/miniconda3/envs/cefiworking/lib/python3.13/site-packages/rasterio/features.py:336: ShapeSkipWarning: Invalid or empty shape AREA_TYPE at index 0 will not be rasterized.\n",
      "  warnings.warn(\n",
      "/Users/kelly.kearney/miniconda3/envs/cefiworking/lib/python3.13/site-packages/rasterio/features.py:336: ShapeSkipWarning: Invalid or empty shape SURVEY_DEFINITION_ID at index 1 will not be rasterized.\n",
      "  warnings.warn(\n",
      "/Users/kelly.kearney/miniconda3/envs/cefiworking/lib/python3.13/site-packages/rasterio/features.py:336: ShapeSkipWarning: Invalid or empty shape DESIGN_YEAR at index 2 will not be rasterized.\n",
      "  warnings.warn(\n",
      "/Users/kelly.kearney/miniconda3/envs/cefiworking/lib/python3.13/site-packages/rasterio/features.py:336: ShapeSkipWarning: Invalid or empty shape AREA_ID at index 3 will not be rasterized.\n",
      "  warnings.warn(\n",
      "/Users/kelly.kearney/miniconda3/envs/cefiworking/lib/python3.13/site-packages/rasterio/features.py:336: ShapeSkipWarning: Invalid or empty shape AREA_M2 at index 4 will not be rasterized.\n",
      "  warnings.warn(\n",
      "/Users/kelly.kearney/miniconda3/envs/cefiworking/lib/python3.13/site-packages/rasterio/features.py:336: ShapeSkipWarning: Invalid or empty shape geometry at index 5 will not be rasterized.\n",
      "  warnings.warn(\n"
     ]
    },
    {
     "ename": "NoDataInBounds",
     "evalue": "No data found in bounds. Data variable: deptho",
     "output_type": "error",
     "traceback": [
      "\u001b[31m---------------------------------------------------------------------------\u001b[39m",
      "\u001b[31mNoDataInBounds\u001b[39m                            Traceback (most recent call last)",
      "\u001b[36mCell\u001b[39m\u001b[36m \u001b[39m\u001b[32mIn[47]\u001b[39m\u001b[32m, line 8\u001b[39m\n\u001b[32m      4\u001b[39m surveystrata = gpd.read_file(file, layer=\u001b[33m\"\u001b[39m\u001b[33msurvey_strata\u001b[39m\u001b[33m\"\u001b[39m)\n\u001b[32m      6\u001b[39m \u001b[38;5;66;03m# A single stratum\u001b[39;00m\n\u001b[32m----> \u001b[39m\u001b[32m8\u001b[39m test = \u001b[43mbathy\u001b[49m\u001b[43m.\u001b[49m\u001b[43mrio\u001b[49m\u001b[43m.\u001b[49m\u001b[43mclip\u001b[49m\u001b[43m(\u001b[49m\u001b[43msurveystrata\u001b[49m\u001b[43m.\u001b[49m\u001b[43miloc\u001b[49m\u001b[43m[\u001b[49m\u001b[43m[\u001b[49m\u001b[32;43m0\u001b[39;49m\u001b[43m]\u001b[49m\u001b[43m]\u001b[49m\u001b[43m)\u001b[49m\n\u001b[32m      9\u001b[39m test\n\u001b[32m     13\u001b[39m \u001b[38;5;66;03m# ax = surveystrata.plot(column=\"AREA_ID\")\u001b[39;00m\n",
      "\u001b[36mFile \u001b[39m\u001b[32m~/miniconda3/envs/cefiworking/lib/python3.13/site-packages/rioxarray/raster_array.py:974\u001b[39m, in \u001b[36mRasterArray.clip\u001b[39m\u001b[34m(self, geometries, crs, all_touched, drop, invert, from_disk)\u001b[39m\n\u001b[32m    962\u001b[39m     cropped_ds = _clip_xarray(\n\u001b[32m    963\u001b[39m         \u001b[38;5;28mself\u001b[39m._obj,\n\u001b[32m    964\u001b[39m         geometries=geometries,\n\u001b[32m   (...)\u001b[39m\u001b[32m    967\u001b[39m         invert=invert,\n\u001b[32m    968\u001b[39m     )\n\u001b[32m    970\u001b[39m \u001b[38;5;28;01mif\u001b[39;00m (\n\u001b[32m    971\u001b[39m     cropped_ds.coords[\u001b[38;5;28mself\u001b[39m.x_dim].size < \u001b[32m1\u001b[39m\n\u001b[32m    972\u001b[39m     \u001b[38;5;129;01mor\u001b[39;00m cropped_ds.coords[\u001b[38;5;28mself\u001b[39m.y_dim].size < \u001b[32m1\u001b[39m\n\u001b[32m    973\u001b[39m ):\n\u001b[32m--> \u001b[39m\u001b[32m974\u001b[39m     \u001b[38;5;28;01mraise\u001b[39;00m NoDataInBounds(\n\u001b[32m    975\u001b[39m         \u001b[33mf\u001b[39m\u001b[33m\"\u001b[39m\u001b[33mNo data found in bounds.\u001b[39m\u001b[38;5;132;01m{\u001b[39;00m_get_data_var_message(\u001b[38;5;28mself\u001b[39m._obj)\u001b[38;5;132;01m}\u001b[39;00m\u001b[33m\"\u001b[39m\n\u001b[32m    976\u001b[39m     )\n\u001b[32m    978\u001b[39m \u001b[38;5;66;03m# make sure correct attributes preserved & projection added\u001b[39;00m\n\u001b[32m    979\u001b[39m _add_attrs_proj(new_data_array=cropped_ds, src_data_array=\u001b[38;5;28mself\u001b[39m._obj)\n",
      "\u001b[31mNoDataInBounds\u001b[39m: No data found in bounds. Data variable: deptho"
     ]
    }
   ],
   "source": [
    "# Testing: groundfish survey strata (\"EPSG:3338\" projection)\n",
    "\n",
    "\n",
    "surveystrata = gpd.read_file(file, layer=\"survey_strata\")\n",
    "\n",
    "\n",
    "# A single stratum\n",
    "\n",
    "test = bathy.rio.clip(surveystrata.iloc[[0]])\n",
    "test\n",
    "\n",
    "\n",
    "\n",
    "# ax = surveystrata.plot(column=\"AREA_ID\")\n"
   ]
  }
 ],
 "metadata": {
  "kernelspec": {
   "display_name": "cefiworking",
   "language": "python",
   "name": "python3"
  },
  "language_info": {
   "codemirror_mode": {
    "name": "ipython",
    "version": 3
   },
   "file_extension": ".py",
   "mimetype": "text/x-python",
   "name": "python",
   "nbconvert_exporter": "python",
   "pygments_lexer": "ipython3",
   "version": "3.13.5"
  },
  "orig_nbformat": 4
 },
 "nbformat": 4,
 "nbformat_minor": 2
}
